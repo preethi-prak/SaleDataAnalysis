{
 "cells": [
  {
   "cell_type": "markdown",
   "id": "d89d6faf-c006-4c85-83ad-f95142b31eb7",
   "metadata": {},
   "source": [
    "### Case Study: Sales Data Analysis\n",
    "\n",
    "### Background\n",
    "\n",
    "Imagine you're a data analyst at an electronics retail company. The company sells various products, such as smartphones, laptops, tablets, and accessories, through both its physical stores and online platform. You've been given a dataset containing sales data for the past year. The dataset includes information like the date of sale, product category, product name, number of units sold, unit price, and total sales amount. Your task is to analyze this data to extract meaningful insights that could help the sales and marketing teams make informed decisions.\n",
    "\n",
    "### Dataset Structure\n",
    "\n",
    "The sales data is structured as follows (presented in a simplified manner for this exercise):\n",
    "\n",
    "- `Date`: The date of the sale (YYYY-MM-DD).\n",
    "- `Category`: The category of the product (e.g., Smartphone, Laptop, Tablet, Accessories).\n",
    "- `Product`: The name of the product.\n",
    "- `Units Sold`: The number of units sold in the transaction.\n",
    "- `Unit Price`: The price of one unit of the product.\n",
    "- `Total Sales`: The total sales amount for the transaction (Units Sold * Unit Price).\n",
    "\n",
    "### Questions\n",
    "\n",
    "1. **Monthly Sales Analysis**: Calculate the total sales amount for each month. Identify which month had the highest sales and which had the lowest. What might be the reasons for this variation?\n",
    "2. **Product Performance**: For each product category, find the top 3 products with the highest total sales amount. What does this suggest about consumer preferences within each category?\n",
    "3. **Sales Trend Analysis**: Determine the month-over-month percentage change in total sales. Identify any trends or patterns. Are there any specific months where sales significantly increased or decreased?\n",
    "4. **Price Impact on Sales Volume**: Analyze the relationship between unit price and units sold. Do higher-priced products tend to sell fewer units than lower-priced products, or is there no clear pattern?\n",
    "5. **Seasonal Analysis**: Assuming you have data indicating whether a sale occurred in-store or online, compare the in-store vs. online sales volume across different seasons (Spring, Summer, Fall, Winter). How do sales channels perform in different seasons?\n",
    "\n",
    "### Tasks\n",
    "\n",
    "Your challenge is to use pandas to answer these questions. You'll need to perform data manipulation and aggregation operations such as grouping, filtering, calculating summary statistics, and possibly merging datasets if additional information (like seasonal data) is provided in separate files."
   ]
  },
  {
   "cell_type": "code",
   "execution_count": 96,
   "id": "37796b31-f59f-41d3-a527-a8e3233d06d2",
   "metadata": {},
   "outputs": [
    {
     "name": "stdout",
     "output_type": "stream",
     "text": [
      "         Date     Category               Product  Units Sold  Unit Price  \\\n",
      "0  2023-01-05   Smartphone            X-Phone 12          20         750   \n",
      "1  2023-01-15       Laptop            ProBook 15          10        1200   \n",
      "2  2023-02-02       Tablet               Tab A10          30         350   \n",
      "3  2023-02-20  Accessories  USB-C Charging Cable          50          15   \n",
      "4  2023-03-15   Smartphone            X-Phone 12          25         750   \n",
      "5  2023-03-22       Laptop            ProBook 15          15        1200   \n",
      "6  2023-04-18       Tablet               Tab A10          20         350   \n",
      "7  2023-04-25  Accessories  USB-C Charging Cable          60          15   \n",
      "8  2023-05-06   Smartphone            Y-Phone 11          30         700   \n",
      "9  2023-05-16       Laptop           Gamer Ultra           5        2500   \n",
      "10 2023-06-03       Tablet               Tab A10          25         350   \n",
      "11 2023-06-18  Accessories        Wireless Mouse          40          25   \n",
      "\n",
      "    Total Sales Sales Channel  \n",
      "0         15000        Online  \n",
      "1         12000      In-Store  \n",
      "2         10500        Online  \n",
      "3           750      In-Store  \n",
      "4         18750        Online  \n",
      "5         18000      In-Store  \n",
      "6          7000        Online  \n",
      "7           900      In-Store  \n",
      "8         21000        Online  \n",
      "9         12500      In-Store  \n",
      "10         8750        Online  \n",
      "11         1000      In-Store  \n"
     ]
    }
   ],
   "source": [
    "import pandas as pd\n",
    "from io import StringIO\n",
    "import seaborn as sns\n",
    "\n",
    "data = StringIO(\"\"\"\n",
    "Date,Category,Product,Units Sold,Unit Price,Total Sales,Sales Channel\n",
    "2023-01-05,Smartphone,X-Phone 12,20,750,15000,Online\n",
    "2023-01-15,Laptop,ProBook 15,10,1200,12000,In-Store\n",
    "2023-02-02,Tablet,Tab A10,30,350,10500,Online\n",
    "2023-02-20,Accessories,USB-C Charging Cable,50,15,750,In-Store\n",
    "2023-03-15,Smartphone,X-Phone 12,25,750,18750,Online\n",
    "2023-03-22,Laptop,ProBook 15,15,1200,18000,In-Store\n",
    "2023-04-18,Tablet,Tab A10,20,350,7000,Online\n",
    "2023-04-25,Accessories,USB-C Charging Cable,60,15,900,In-Store\n",
    "2023-05-06,Smartphone,Y-Phone 11,30,700,21000,Online\n",
    "2023-05-16,Laptop,Gamer Ultra,5,2500,12500,In-Store\n",
    "2023-06-03,Tablet,Tab A10,25,350,8750,Online\n",
    "2023-06-18,Accessories,Wireless Mouse,40,25,1000,In-Store\n",
    "\"\"\")\n",
    "# Load the dataset into a DataFrame\n",
    "\n",
    "sales_data = pd.read_csv(data, parse_dates=['Date'])\n",
    "\n",
    "# Display the DataFrame\n",
    "\n",
    "print(sales_data)"
   ]
  },
  {
   "cell_type": "code",
   "execution_count": 97,
   "id": "613deb91-9318-40a1-8156-ec9e013cf360",
   "metadata": {},
   "outputs": [],
   "source": [
    "sales_data['Month'] = sales_data['Date'].dt.month"
   ]
  },
  {
   "cell_type": "markdown",
   "id": "ae58b5b3-424d-4fb0-bede-3f1659d9fa07",
   "metadata": {},
   "source": [
    "### Monthly Sales Analysis: Calculate the total sales amount for each month. Identify which month had the highest sales and which had the lowest. What might be the reasons for this variation?"
   ]
  },
  {
   "cell_type": "code",
   "execution_count": 98,
   "id": "4b260ac9-05e3-420c-b4e3-ab8bb436bb84",
   "metadata": {},
   "outputs": [
    {
     "name": "stdout",
     "output_type": "stream",
     "text": [
      "<class 'pandas.core.frame.DataFrame'>\n",
      "RangeIndex: 12 entries, 0 to 11\n",
      "Data columns (total 8 columns):\n",
      " #   Column         Non-Null Count  Dtype         \n",
      "---  ------         --------------  -----         \n",
      " 0   Date           12 non-null     datetime64[ns]\n",
      " 1   Category       12 non-null     object        \n",
      " 2   Product        12 non-null     object        \n",
      " 3   Units Sold     12 non-null     int64         \n",
      " 4   Unit Price     12 non-null     int64         \n",
      " 5   Total Sales    12 non-null     int64         \n",
      " 6   Sales Channel  12 non-null     object        \n",
      " 7   Month          12 non-null     int32         \n",
      "dtypes: datetime64[ns](1), int32(1), int64(3), object(3)\n",
      "memory usage: 852.0+ bytes\n"
     ]
    }
   ],
   "source": [
    "sales_data.info()"
   ]
  },
  {
   "cell_type": "code",
   "execution_count": 99,
   "id": "899c3f59-e282-41cf-b316-9612db1c62e4",
   "metadata": {},
   "outputs": [
    {
     "data": {
      "text/html": [
       "<div>\n",
       "<style scoped>\n",
       "    .dataframe tbody tr th:only-of-type {\n",
       "        vertical-align: middle;\n",
       "    }\n",
       "\n",
       "    .dataframe tbody tr th {\n",
       "        vertical-align: top;\n",
       "    }\n",
       "\n",
       "    .dataframe thead th {\n",
       "        text-align: right;\n",
       "    }\n",
       "</style>\n",
       "<table border=\"1\" class=\"dataframe\">\n",
       "  <thead>\n",
       "    <tr style=\"text-align: right;\">\n",
       "      <th></th>\n",
       "      <th></th>\n",
       "      <th>sum</th>\n",
       "    </tr>\n",
       "    <tr>\n",
       "      <th>Year</th>\n",
       "      <th>Month</th>\n",
       "      <th></th>\n",
       "    </tr>\n",
       "  </thead>\n",
       "  <tbody>\n",
       "    <tr>\n",
       "      <th rowspan=\"6\" valign=\"top\">2023</th>\n",
       "      <th>1</th>\n",
       "      <td>27000</td>\n",
       "    </tr>\n",
       "    <tr>\n",
       "      <th>2</th>\n",
       "      <td>11250</td>\n",
       "    </tr>\n",
       "    <tr>\n",
       "      <th>3</th>\n",
       "      <td>36750</td>\n",
       "    </tr>\n",
       "    <tr>\n",
       "      <th>4</th>\n",
       "      <td>7900</td>\n",
       "    </tr>\n",
       "    <tr>\n",
       "      <th>5</th>\n",
       "      <td>33500</td>\n",
       "    </tr>\n",
       "    <tr>\n",
       "      <th>6</th>\n",
       "      <td>9750</td>\n",
       "    </tr>\n",
       "  </tbody>\n",
       "</table>\n",
       "</div>"
      ],
      "text/plain": [
       "              sum\n",
       "Year Month       \n",
       "2023 1      27000\n",
       "     2      11250\n",
       "     3      36750\n",
       "     4       7900\n",
       "     5      33500\n",
       "     6       9750"
      ]
     },
     "execution_count": 99,
     "metadata": {},
     "output_type": "execute_result"
    }
   ],
   "source": [
    "df_grouped = sales_data.groupby([sales_data['Date'].dt.year.rename('Year'), sales_data['Date'].dt.month.rename('Month')])['Total Sales'].agg({'sum'})\n",
    "df_grouped"
   ]
  },
  {
   "cell_type": "code",
   "execution_count": 100,
   "id": "b86a611c-0dd4-41ea-a04f-8c8d3661468e",
   "metadata": {},
   "outputs": [
    {
     "data": {
      "text/html": [
       "<div>\n",
       "<style scoped>\n",
       "    .dataframe tbody tr th:only-of-type {\n",
       "        vertical-align: middle;\n",
       "    }\n",
       "\n",
       "    .dataframe tbody tr th {\n",
       "        vertical-align: top;\n",
       "    }\n",
       "\n",
       "    .dataframe thead th {\n",
       "        text-align: right;\n",
       "    }\n",
       "</style>\n",
       "<table border=\"1\" class=\"dataframe\">\n",
       "  <thead>\n",
       "    <tr style=\"text-align: right;\">\n",
       "      <th></th>\n",
       "      <th></th>\n",
       "      <th>sum</th>\n",
       "    </tr>\n",
       "    <tr>\n",
       "      <th>Year</th>\n",
       "      <th>Month</th>\n",
       "      <th></th>\n",
       "    </tr>\n",
       "  </thead>\n",
       "  <tbody>\n",
       "    <tr>\n",
       "      <th>2023</th>\n",
       "      <th>3</th>\n",
       "      <td>36750</td>\n",
       "    </tr>\n",
       "  </tbody>\n",
       "</table>\n",
       "</div>"
      ],
      "text/plain": [
       "              sum\n",
       "Year Month       \n",
       "2023 3      36750"
      ]
     },
     "execution_count": 100,
     "metadata": {},
     "output_type": "execute_result"
    }
   ],
   "source": [
    "max_sales = df_grouped[df_grouped['sum'] == df_grouped['sum'].max()] \n",
    "max_sales"
   ]
  },
  {
   "cell_type": "code",
   "execution_count": 101,
   "id": "e327f749-ed3c-418e-9def-ba23356acc5d",
   "metadata": {},
   "outputs": [
    {
     "data": {
      "text/html": [
       "<div>\n",
       "<style scoped>\n",
       "    .dataframe tbody tr th:only-of-type {\n",
       "        vertical-align: middle;\n",
       "    }\n",
       "\n",
       "    .dataframe tbody tr th {\n",
       "        vertical-align: top;\n",
       "    }\n",
       "\n",
       "    .dataframe thead th {\n",
       "        text-align: right;\n",
       "    }\n",
       "</style>\n",
       "<table border=\"1\" class=\"dataframe\">\n",
       "  <thead>\n",
       "    <tr style=\"text-align: right;\">\n",
       "      <th></th>\n",
       "      <th></th>\n",
       "      <th>sum</th>\n",
       "    </tr>\n",
       "    <tr>\n",
       "      <th>Year</th>\n",
       "      <th>Month</th>\n",
       "      <th></th>\n",
       "    </tr>\n",
       "  </thead>\n",
       "  <tbody>\n",
       "    <tr>\n",
       "      <th>2023</th>\n",
       "      <th>4</th>\n",
       "      <td>7900</td>\n",
       "    </tr>\n",
       "  </tbody>\n",
       "</table>\n",
       "</div>"
      ],
      "text/plain": [
       "             sum\n",
       "Year Month      \n",
       "2023 4      7900"
      ]
     },
     "execution_count": 101,
     "metadata": {},
     "output_type": "execute_result"
    }
   ],
   "source": [
    "min_sales = df_grouped[df_grouped['sum'] == df_grouped['sum'].min()] \n",
    "min_sales"
   ]
  },
  {
   "cell_type": "code",
   "execution_count": 102,
   "id": "3d99eca4-758e-4ace-9680-2777bdc79a60",
   "metadata": {},
   "outputs": [
    {
     "name": "stdout",
     "output_type": "stream",
     "text": [
      "Highest sales were in month: sum    (2023, 3)\n",
      "dtype: object\n",
      "Lowest sales were in month: sum    (2023, 4)\n",
      "dtype: object\n"
     ]
    }
   ],
   "source": [
    "highest_sales_month = df_grouped.idxmax()\n",
    "lowest_sales_month = df_grouped.idxmin()\n",
    "\n",
    "print(f\"Highest sales were in month: {highest_sales_month}\")\n",
    "print(f\"Lowest sales were in month: {lowest_sales_month}\")\n"
   ]
  },
  {
   "cell_type": "markdown",
   "id": "9c5b6863-0525-42b3-9950-df1f36558184",
   "metadata": {},
   "source": [
    "### Product Performance: For each product category, find the top 3 products with the highest total sales amount. What does this suggest about consumer preferences within each category?"
   ]
  },
  {
   "cell_type": "code",
   "execution_count": 103,
   "id": "d8a2d56a-ac7a-4766-ad1a-76f51854c37e",
   "metadata": {},
   "outputs": [
    {
     "name": "stdout",
     "output_type": "stream",
     "text": [
      "Category     Product             \n",
      "Accessories  USB-C Charging Cable     1650\n",
      "             Wireless Mouse           1000\n",
      "Laptop       ProBook 15              30000\n",
      "             Gamer Ultra             12500\n",
      "Smartphone   X-Phone 12              33750\n",
      "             Y-Phone 11              21000\n",
      "Tablet       Tab A10                 26250\n",
      "Name: Total Sales, dtype: int64\n"
     ]
    }
   ],
   "source": [
    "product_cat = sales_data.groupby(['Category','Product'])['Total Sales'].sum().sort_values().groupby(level = 0 , group_keys= False).nlargest(3)\n",
    "print(product_cat)"
   ]
  },
  {
   "cell_type": "markdown",
   "id": "d3ce04d1-ce6a-418e-8983-c7e7bac068ac",
   "metadata": {},
   "source": [
    "### Sales Trend Analysis: Determine the month-over-month percentage change in total sales. Identify any trends or patterns. Are there any specific months where sales significantly increased or decreased?"
   ]
  },
  {
   "cell_type": "code",
   "execution_count": 104,
   "id": "0eba41ad-8bf4-4c4e-8385-b8ce2b4b9009",
   "metadata": {},
   "outputs": [
    {
     "name": "stderr",
     "output_type": "stream",
     "text": [
      "/Users/preethi/anaconda3/lib/python3.11/site-packages/seaborn/_oldcore.py:1119: FutureWarning: use_inf_as_na option is deprecated and will be removed in a future version. Convert inf values to NaN before operating instead.\n",
      "  with pd.option_context('mode.use_inf_as_na', True):\n",
      "/Users/preethi/anaconda3/lib/python3.11/site-packages/seaborn/_oldcore.py:1119: FutureWarning: use_inf_as_na option is deprecated and will be removed in a future version. Convert inf values to NaN before operating instead.\n",
      "  with pd.option_context('mode.use_inf_as_na', True):\n"
     ]
    },
    {
     "data": {
      "text/plain": [
       "<Axes: xlabel='Month', ylabel='Total Sales'>"
      ]
     },
     "execution_count": 104,
     "metadata": {},
     "output_type": "execute_result"
    },
    {
     "data": {
      "image/png": "[encoded data removed]",
      "text/plain": [
       "<Figure size 640x480 with 1 Axes>"
      ]
     },
     "metadata": {},
     "output_type": "display_data"
    }
   ],
   "source": [
    "sns.lineplot(y='Total Sales',x = 'Month',data = sales_data)"
   ]
  },
  {
   "cell_type": "code",
   "execution_count": 105,
   "id": "c92592fc-0f5d-416d-adb6-adba6402109c",
   "metadata": {},
   "outputs": [
    {
     "data": {
      "text/plain": [
       "Month\n",
       "1      0.000000\n",
       "2    -58.333333\n",
       "3    226.666667\n",
       "4    -78.503401\n",
       "5    324.050633\n",
       "6    -70.895522\n",
       "Name: Total Sales, dtype: float64"
      ]
     },
     "execution_count": 105,
     "metadata": {},
     "output_type": "execute_result"
    }
   ],
   "source": [
    "monthly_sales = sales_data.groupby('Month')['Total Sales'].sum()\n",
    "monthly_sales_pct_change = monthly_sales.pct_change().fillna(0) * 100\n",
    "monthly_sales_pct_change"
   ]
  },
  {
   "cell_type": "markdown",
   "id": "74d9f55c-f1d9-4e23-b56c-32a7a3dc17a8",
   "metadata": {},
   "source": [
    "### Price Impact on Sales Volume: Analyze the relationship between unit price and units sold. Do higher-priced products tend to sell fewer units than lower-priced products, or is there no clear pattern?"
   ]
  },
  {
   "cell_type": "code",
   "execution_count": 106,
   "id": "5c465353-14f2-43f0-9c30-5f3bc120a3a5",
   "metadata": {},
   "outputs": [
    {
     "name": "stderr",
     "output_type": "stream",
     "text": [
      "/Users/preethi/anaconda3/lib/python3.11/site-packages/seaborn/_oldcore.py:1119: FutureWarning: use_inf_as_na option is deprecated and will be removed in a future version. Convert inf values to NaN before operating instead.\n",
      "  with pd.option_context('mode.use_inf_as_na', True):\n",
      "/Users/preethi/anaconda3/lib/python3.11/site-packages/seaborn/_oldcore.py:1119: FutureWarning: use_inf_as_na option is deprecated and will be removed in a future version. Convert inf values to NaN before operating instead.\n",
      "  with pd.option_context('mode.use_inf_as_na', True):\n"
     ]
    },
    {
     "data": {
      "text/plain": [
       "<Axes: xlabel='Units Sold', ylabel='Unit Price'>"
      ]
     },
     "execution_count": 106,
     "metadata": {},
     "output_type": "execute_result"
    },
    {
     "data": {
      "image/png": "[encoded data removed]",
      "text/plain": [
       "<Figure size 640x480 with 1 Axes>"
      ]
     },
     "metadata": {},
     "output_type": "display_data"
    }
   ],
   "source": [
    "sns.lineplot(y = 'Unit Price' , x = 'Units Sold' ,data = sales_data )"
   ]
  },
  {
   "cell_type": "code",
   "execution_count": 107,
   "id": "bba2ff9c-ca4e-4ace-a9ba-425aa0ddf03a",
   "metadata": {},
   "outputs": [
    {
     "name": "stdout",
     "output_type": "stream",
     "text": [
      "Correlation between unit price and units sold: -0.7978908877536965\n"
     ]
    }
   ],
   "source": [
    "correlation = sales_data['Unit Price'].corr(sales_data['Units Sold'])\n",
    "\n",
    "print(f\"Correlation between unit price and units sold: {correlation}\")"
   ]
  },
  {
   "cell_type": "markdown",
   "id": "fb5c0aa0-200a-4a0c-83de-545114a58323",
   "metadata": {},
   "source": [
    "### Seasonal Analysis: Assuming you have data indicating whether a sale occurred in-store or online, compare the in-store vs. online sales volume across different seasons (Spring, Summer, Fall, Winter). How do sales channels perform in different seasons?"
   ]
  },
  {
   "cell_type": "code",
   "execution_count": 108,
   "id": "466d4aa4-84b9-45dd-bb08-3bb4db0a2aa2",
   "metadata": {},
   "outputs": [],
   "source": [
    "def seasons(month) :\n",
    "    if month in [3,4,5]:\n",
    "        return 'Spring'\n",
    "    elif month in [6,7,8]:\n",
    "        return 'Summer'\n",
    "    elif month in [9,10,11]:\n",
    "        return 'Fall'\n",
    "    else:\n",
    "        return 'Winter'"
   ]
  },
  {
   "cell_type": "code",
   "execution_count": 109,
   "id": "0cd773c6-594c-43f7-b143-ca6afd5b84a1",
   "metadata": {},
   "outputs": [
    {
     "data": {
      "text/html": [
       "<div>\n",
       "<style scoped>\n",
       "    .dataframe tbody tr th:only-of-type {\n",
       "        vertical-align: middle;\n",
       "    }\n",
       "\n",
       "    .dataframe tbody tr th {\n",
       "        vertical-align: top;\n",
       "    }\n",
       "\n",
       "    .dataframe thead th {\n",
       "        text-align: right;\n",
       "    }\n",
       "</style>\n",
       "<table border=\"1\" class=\"dataframe\">\n",
       "  <thead>\n",
       "    <tr style=\"text-align: right;\">\n",
       "      <th></th>\n",
       "      <th>Date</th>\n",
       "      <th>Category</th>\n",
       "      <th>Product</th>\n",
       "      <th>Units Sold</th>\n",
       "      <th>Unit Price</th>\n",
       "      <th>Total Sales</th>\n",
       "      <th>Sales Channel</th>\n",
       "      <th>Month</th>\n",
       "      <th>Season</th>\n",
       "    </tr>\n",
       "  </thead>\n",
       "  <tbody>\n",
       "    <tr>\n",
       "      <th>0</th>\n",
       "      <td>2023-01-05</td>\n",
       "      <td>Smartphone</td>\n",
       "      <td>X-Phone 12</td>\n",
       "      <td>20</td>\n",
       "      <td>750</td>\n",
       "      <td>15000</td>\n",
       "      <td>Online</td>\n",
       "      <td>1</td>\n",
       "      <td>Winter</td>\n",
       "    </tr>\n",
       "    <tr>\n",
       "      <th>1</th>\n",
       "      <td>2023-01-15</td>\n",
       "      <td>Laptop</td>\n",
       "      <td>ProBook 15</td>\n",
       "      <td>10</td>\n",
       "      <td>1200</td>\n",
       "      <td>12000</td>\n",
       "      <td>In-Store</td>\n",
       "      <td>1</td>\n",
       "      <td>Winter</td>\n",
       "    </tr>\n",
       "    <tr>\n",
       "      <th>2</th>\n",
       "      <td>2023-02-02</td>\n",
       "      <td>Tablet</td>\n",
       "      <td>Tab A10</td>\n",
       "      <td>30</td>\n",
       "      <td>350</td>\n",
       "      <td>10500</td>\n",
       "      <td>Online</td>\n",
       "      <td>2</td>\n",
       "      <td>Winter</td>\n",
       "    </tr>\n",
       "    <tr>\n",
       "      <th>3</th>\n",
       "      <td>2023-02-20</td>\n",
       "      <td>Accessories</td>\n",
       "      <td>USB-C Charging Cable</td>\n",
       "      <td>50</td>\n",
       "      <td>15</td>\n",
       "      <td>750</td>\n",
       "      <td>In-Store</td>\n",
       "      <td>2</td>\n",
       "      <td>Winter</td>\n",
       "    </tr>\n",
       "    <tr>\n",
       "      <th>4</th>\n",
       "      <td>2023-03-15</td>\n",
       "      <td>Smartphone</td>\n",
       "      <td>X-Phone 12</td>\n",
       "      <td>25</td>\n",
       "      <td>750</td>\n",
       "      <td>18750</td>\n",
       "      <td>Online</td>\n",
       "      <td>3</td>\n",
       "      <td>Spring</td>\n",
       "    </tr>\n",
       "    <tr>\n",
       "      <th>5</th>\n",
       "      <td>2023-03-22</td>\n",
       "      <td>Laptop</td>\n",
       "      <td>ProBook 15</td>\n",
       "      <td>15</td>\n",
       "      <td>1200</td>\n",
       "      <td>18000</td>\n",
       "      <td>In-Store</td>\n",
       "      <td>3</td>\n",
       "      <td>Spring</td>\n",
       "    </tr>\n",
       "    <tr>\n",
       "      <th>6</th>\n",
       "      <td>2023-04-18</td>\n",
       "      <td>Tablet</td>\n",
       "      <td>Tab A10</td>\n",
       "      <td>20</td>\n",
       "      <td>350</td>\n",
       "      <td>7000</td>\n",
       "      <td>Online</td>\n",
       "      <td>4</td>\n",
       "      <td>Spring</td>\n",
       "    </tr>\n",
       "    <tr>\n",
       "      <th>7</th>\n",
       "      <td>2023-04-25</td>\n",
       "      <td>Accessories</td>\n",
       "      <td>USB-C Charging Cable</td>\n",
       "      <td>60</td>\n",
       "      <td>15</td>\n",
       "      <td>900</td>\n",
       "      <td>In-Store</td>\n",
       "      <td>4</td>\n",
       "      <td>Spring</td>\n",
       "    </tr>\n",
       "    <tr>\n",
       "      <th>8</th>\n",
       "      <td>2023-05-06</td>\n",
       "      <td>Smartphone</td>\n",
       "      <td>Y-Phone 11</td>\n",
       "      <td>30</td>\n",
       "      <td>700</td>\n",
       "      <td>21000</td>\n",
       "      <td>Online</td>\n",
       "      <td>5</td>\n",
       "      <td>Spring</td>\n",
       "    </tr>\n",
       "    <tr>\n",
       "      <th>9</th>\n",
       "      <td>2023-05-16</td>\n",
       "      <td>Laptop</td>\n",
       "      <td>Gamer Ultra</td>\n",
       "      <td>5</td>\n",
       "      <td>2500</td>\n",
       "      <td>12500</td>\n",
       "      <td>In-Store</td>\n",
       "      <td>5</td>\n",
       "      <td>Spring</td>\n",
       "    </tr>\n",
       "    <tr>\n",
       "      <th>10</th>\n",
       "      <td>2023-06-03</td>\n",
       "      <td>Tablet</td>\n",
       "      <td>Tab A10</td>\n",
       "      <td>25</td>\n",
       "      <td>350</td>\n",
       "      <td>8750</td>\n",
       "      <td>Online</td>\n",
       "      <td>6</td>\n",
       "      <td>Summer</td>\n",
       "    </tr>\n",
       "    <tr>\n",
       "      <th>11</th>\n",
       "      <td>2023-06-18</td>\n",
       "      <td>Accessories</td>\n",
       "      <td>Wireless Mouse</td>\n",
       "      <td>40</td>\n",
       "      <td>25</td>\n",
       "      <td>1000</td>\n",
       "      <td>In-Store</td>\n",
       "      <td>6</td>\n",
       "      <td>Summer</td>\n",
       "    </tr>\n",
       "  </tbody>\n",
       "</table>\n",
       "</div>"
      ],
      "text/plain": [
       "         Date     Category               Product  Units Sold  Unit Price  \\\n",
       "0  2023-01-05   Smartphone            X-Phone 12          20         750   \n",
       "1  2023-01-15       Laptop            ProBook 15          10        1200   \n",
       "2  2023-02-02       Tablet               Tab A10          30         350   \n",
       "3  2023-02-20  Accessories  USB-C Charging Cable          50          15   \n",
       "4  2023-03-15   Smartphone            X-Phone 12          25         750   \n",
       "5  2023-03-22       Laptop            ProBook 15          15        1200   \n",
       "6  2023-04-18       Tablet               Tab A10          20         350   \n",
       "7  2023-04-25  Accessories  USB-C Charging Cable          60          15   \n",
       "8  2023-05-06   Smartphone            Y-Phone 11          30         700   \n",
       "9  2023-05-16       Laptop           Gamer Ultra           5        2500   \n",
       "10 2023-06-03       Tablet               Tab A10          25         350   \n",
       "11 2023-06-18  Accessories        Wireless Mouse          40          25   \n",
       "\n",
       "    Total Sales Sales Channel  Month  Season  \n",
       "0         15000        Online      1  Winter  \n",
       "1         12000      In-Store      1  Winter  \n",
       "2         10500        Online      2  Winter  \n",
       "3           750      In-Store      2  Winter  \n",
       "4         18750        Online      3  Spring  \n",
       "5         18000      In-Store      3  Spring  \n",
       "6          7000        Online      4  Spring  \n",
       "7           900      In-Store      4  Spring  \n",
       "8         21000        Online      5  Spring  \n",
       "9         12500      In-Store      5  Spring  \n",
       "10         8750        Online      6  Summer  \n",
       "11         1000      In-Store      6  Summer  "
      ]
     },
     "execution_count": 109,
     "metadata": {},
     "output_type": "execute_result"
    }
   ],
   "source": [
    "# Apply the function to add a 'Season' column\n",
    "sales_data['Season'] = sales_data['Month'].apply(seasons)\n",
    "sales_data"
   ]
  },
  {
   "cell_type": "code",
   "execution_count": 114,
   "id": "0ef714bf-3595-4ee1-a52e-9e8579531e36",
   "metadata": {},
   "outputs": [
    {
     "data": {
      "text/plain": [
       "Season  Sales Channel\n",
       "Spring  In-Store         80\n",
       "        Online           75\n",
       "Summer  In-Store         40\n",
       "        Online           25\n",
       "Winter  In-Store         60\n",
       "        Online           50\n",
       "Name: Units Sold, dtype: int64"
      ]
     },
     "execution_count": 114,
     "metadata": {},
     "output_type": "execute_result"
    }
   ],
   "source": [
    "\n",
    "# Group by 'Season' and 'Sales Channel' and sum the 'Units Sold'\n",
    "seasonal_sales_volume = sales_data.groupby(['Season', 'Sales Channel'])['Units Sold'].sum()\n",
    "seasonal_sales_volume"
   ]
  },
  {
   "cell_type": "code",
   "execution_count": 114,
   "id": "579362bd-dfae-4d83-9d43-2d9d7ff67a39",
   "metadata": {},
   "outputs": [
    {
     "data": {
      "text/plain": [
       "Season  Sales Channel\n",
       "Spring  In-Store         80\n",
       "        Online           75\n",
       "Summer  In-Store         40\n",
       "        Online           25\n",
       "Winter  In-Store         60\n",
       "        Online           50\n",
       "Name: Units Sold, dtype: int64"
      ]
     },
     "execution_count": 114,
     "metadata": {},
     "output_type": "execute_result"
    }
   ],
   "source": [
    "\n",
    "# Group by 'Season' and 'Sales Channel' and sum the 'Units Sold'\n",
    "seasonal_sales_volume = sales_data.groupby(['Season', 'Sales Channel'])['Units Sold'].sum()\n",
    "seasonal_sales_volume"
   ]
  },
  {
   "cell_type": "code",
   "execution_count": 114,
   "id": "67a58dcb-6f76-40c2-8e46-8cbb809857c3",
   "metadata": {},
   "outputs": [
    {
     "data": {
      "text/plain": [
       "Season  Sales Channel\n",
       "Spring  In-Store         80\n",
       "        Online           75\n",
       "Summer  In-Store         40\n",
       "        Online           25\n",
       "Winter  In-Store         60\n",
       "        Online           50\n",
       "Name: Units Sold, dtype: int64"
      ]
     },
     "execution_count": 114,
     "metadata": {},
     "output_type": "execute_result"
    }
   ],
   "source": [
    "\n",
    "# Group by 'Season' and 'Sales Channel' and sum the 'Units Sold'\n",
    "seasonal_sales_volume = sales_data.groupby(['Season', 'Sales Channel'])['Units Sold'].sum()\n",
    "seasonal_sales_volume"
   ]
  },
  {
   "cell_type": "code",
   "execution_count": 114,
   "id": "5397db4a-1de0-4f22-b954-97c2f5344c40",
   "metadata": {},
   "outputs": [
    {
     "data": {
      "text/plain": [
       "Season  Sales Channel\n",
       "Spring  In-Store         80\n",
       "        Online           75\n",
       "Summer  In-Store         40\n",
       "        Online           25\n",
       "Winter  In-Store         60\n",
       "        Online           50\n",
       "Name: Units Sold, dtype: int64"
      ]
     },
     "execution_count": 114,
     "metadata": {},
     "output_type": "execute_result"
    }
   ],
   "source": [
    "\n",
    "# Group by 'Season' and 'Sales Channel' and sum the 'Units Sold'\n",
    "seasonal_sales_volume = sales_data.groupby(['Season', 'Sales Channel'])['Units Sold'].sum()\n",
    "seasonal_sales_volume"
   ]
  },
  {
   "cell_type": "code",
   "execution_count": 114,
   "id": "264d5938-eba9-4f22-8eb1-30ee58f592a6",
   "metadata": {},
   "outputs": [
    {
     "data": {
      "text/plain": [
       "Season  Sales Channel\n",
       "Spring  In-Store         80\n",
       "        Online           75\n",
       "Summer  In-Store         40\n",
       "        Online           25\n",
       "Winter  In-Store         60\n",
       "        Online           50\n",
       "Name: Units Sold, dtype: int64"
      ]
     },
     "execution_count": 114,
     "metadata": {},
     "output_type": "execute_result"
    }
   ],
   "source": [
    "\n",
    "# Group by 'Season' and 'Sales Channel' and sum the 'Units Sold'\n",
    "seasonal_sales_volume = sales_data.groupby(['Season', 'Sales Channel'])['Units Sold'].sum()\n",
    "seasonal_sales_volume"
   ]
  },
  {
   "cell_type": "code",
   "execution_count": 117,
   "id": "ae359537-2c76-473b-abe5-efe81cecfd05",
   "metadata": {},
   "outputs": [
    {
     "data": {
      "text/html": [
       "<div>\n",
       "<style scoped>\n",
       "    .dataframe tbody tr th:only-of-type {\n",
       "        vertical-align: middle;\n",
       "    }\n",
       "\n",
       "    .dataframe tbody tr th {\n",
       "        vertical-align: top;\n",
       "    }\n",
       "\n",
       "    .dataframe thead th {\n",
       "        text-align: right;\n",
       "    }\n",
       "</style>\n",
       "<table border=\"1\" class=\"dataframe\">\n",
       "  <thead>\n",
       "    <tr style=\"text-align: right;\">\n",
       "      <th>Sales Channel</th>\n",
       "      <th>In-Store</th>\n",
       "      <th>Online</th>\n",
       "    </tr>\n",
       "    <tr>\n",
       "      <th>Season</th>\n",
       "      <th></th>\n",
       "      <th></th>\n",
       "    </tr>\n",
       "  </thead>\n",
       "  <tbody>\n",
       "    <tr>\n",
       "      <th>Spring</th>\n",
       "      <td>80</td>\n",
       "      <td>75</td>\n",
       "    </tr>\n",
       "    <tr>\n",
       "      <th>Summer</th>\n",
       "      <td>40</td>\n",
       "      <td>25</td>\n",
       "    </tr>\n",
       "    <tr>\n",
       "      <th>Winter</th>\n",
       "      <td>60</td>\n",
       "      <td>50</td>\n",
       "    </tr>\n",
       "  </tbody>\n",
       "</table>\n",
       "</div>"
      ],
      "text/plain": [
       "Sales Channel  In-Store  Online\n",
       "Season                         \n",
       "Spring               80      75\n",
       "Summer               40      25\n",
       "Winter               60      50"
      ]
     },
     "execution_count": 117,
     "metadata": {},
     "output_type": "execute_result"
    }
   ],
   "source": [
    "seasonal_sales_volume.unstack()\n"
   ]
  },
  {
   "cell_type": "code",
   "execution_count": 120,
   "id": "7ee3af96-4f52-419c-8287-64fdc72b3217",
   "metadata": {},
   "outputs": [
    {
     "data": {
      "image/png": "[encoded data removed]",
      "text/plain": [
       "<Figure size 640x480 with 1 Axes>"
      ]
     },
     "metadata": {},
     "output_type": "display_data"
    }
   ],
   "source": [
    "import matplotlib.pyplot as plt\n",
    "# Visualizing the data might be helpful\n",
    "seasonal_sales_volume.unstack().plot(kind='bar', stacked=False)\n",
    "plt.xlabel('Season')\n",
    "plt.ylabel('Units Sold')\n",
    "plt.title('Seasonal Sales Volume by Sales Channel')\n",
    "plt.legend(title='Sales Channel')\n",
    "plt.show()"
   ]
  },
  {
   "cell_type": "code",
   "execution_count": null,
   "id": "c6170e21-04c5-410f-9c26-42de3c6709a7",
   "metadata": {},
   "outputs": [],
   "source": []
  }
 ],
 "metadata": {
  "kernelspec": {
   "display_name": "Python 3 (ipykernel)",
   "language": "python",
   "name": "python3"
  },
  "language_info": {
   "codemirror_mode": {
    "name": "ipython",
    "version": 3
   },
   "file_extension": ".py",
   "mimetype": "text/x-python",
   "name": "python",
   "nbconvert_exporter": "python",
   "pygments_lexer": "ipython3",
   "version": "3.11.7"
  }
 },
 "nbformat": 4,
 "nbformat_minor": 5
}
