{
 "cells": [
  {
   "cell_type": "markdown",
   "id": "d89d6faf-c006-4c85-83ad-f95142b31eb7",
   "metadata": {},
   "source": [
    "### Case Study: Sales Data Analysis\n",
    "\n",
    "### Background\n",
    "\n",
    "Imagine you're a data analyst at an electronics retail company. The company sells various products, such as smartphones, laptops, tablets, and accessories, through both its physical stores and online platform. You've been given a dataset containing sales data for the past year. The dataset includes information like the date of sale, product category, product name, number of units sold, unit price, and total sales amount. Your task is to analyze this data to extract meaningful insights that could help the sales and marketing teams make informed decisions.\n",
    "\n",
    "### Dataset Structure\n",
    "\n",
    "The sales data is structured as follows (presented in a simplified manner for this exercise):\n",
    "\n",
    "- `Date`: The date of the sale (YYYY-MM-DD).\n",
    "- `Category`: The category of the product (e.g., Smartphone, Laptop, Tablet, Accessories).\n",
    "- `Product`: The name of the product.\n",
    "- `Units Sold`: The number of units sold in the transaction.\n",
    "- `Unit Price`: The price of one unit of the product.\n",
    "- `Total Sales`: The total sales amount for the transaction (Units Sold * Unit Price).\n",
    "\n",
    "### Questions\n",
    "\n",
    "1. **Monthly Sales Analysis**: Calculate the total sales amount for each month. Identify which month had the highest sales and which had the lowest. What might be the reasons for this variation?\n",
    "2. **Product Performance**: For each product category, find the top 3 products with the highest total sales amount. What does this suggest about consumer preferences within each category?\n",
    "3. **Sales Trend Analysis**: Determine the month-over-month percentage change in total sales. Identify any trends or patterns. Are there any specific months where sales significantly increased or decreased?\n",
    "4. **Price Impact on Sales Volume**: Analyze the relationship between unit price and units sold. Do higher-priced products tend to sell fewer units than lower-priced products, or is there no clear pattern?\n",
    "5. **Seasonal Analysis**: Assuming you have data indicating whether a sale occurred in-store or online, compare the in-store vs. online sales volume across different seasons (Spring, Summer, Fall, Winter). How do sales channels perform in different seasons?\n",
    "\n",
    "### Tasks\n",
    "\n",
    "Your challenge is to use pandas to answer these questions. You'll need to perform data manipulation and aggregation operations such as grouping, filtering, calculating summary statistics, and possibly merging datasets if additional information (like seasonal data) is provided in separate files."
   ]
  },
  {
   "cell_type": "code",
   "execution_count": 1,
   "id": "37796b31-f59f-41d3-a527-a8e3233d06d2",
   "metadata": {},
   "outputs": [
    {
     "name": "stdout",
     "output_type": "stream",
     "text": [
      "         Date     Category               Product  Units Sold  Unit Price  \\\n",
      "0  2023-01-05   Smartphone            X-Phone 12          20         750   \n",
      "1  2023-01-15       Laptop            ProBook 15          10        1200   \n",
      "2  2023-02-02       Tablet               Tab A10          30         350   \n",
      "3  2023-02-20  Accessories  USB-C Charging Cable          50          15   \n",
      "4  2023-03-15   Smartphone            X-Phone 12          25         750   \n",
      "5  2023-03-22       Laptop            ProBook 15          15        1200   \n",
      "6  2023-04-18       Tablet               Tab A10          20         350   \n",
      "7  2023-04-25  Accessories  USB-C Charging Cable          60          15   \n",
      "8  2023-05-06   Smartphone            Y-Phone 11          30         700   \n",
      "9  2023-05-16       Laptop           Gamer Ultra           5        2500   \n",
      "10 2023-06-03       Tablet               Tab A10          25         350   \n",
      "11 2023-06-18  Accessories        Wireless Mouse          40          25   \n",
      "\n",
      "    Total Sales  \n",
      "0         15000  \n",
      "1         12000  \n",
      "2         10500  \n",
      "3           750  \n",
      "4         18750  \n",
      "5         18000  \n",
      "6          7000  \n",
      "7           900  \n",
      "8         21000  \n",
      "9         12500  \n",
      "10         8750  \n",
      "11         1000  \n"
     ]
    }
   ],
   "source": [
    "import pandas as pd\n",
    "from io import StringIO\n",
    "\n",
    "data = StringIO(\"\"\"\n",
    "Date,Category,Product,Units Sold,Unit Price,Total Sales\n",
    "2023-01-05,Smartphone,X-Phone 12,20,750,15000\n",
    "2023-01-15,Laptop,ProBook 15,10,1200,12000\n",
    "2023-02-02,Tablet,Tab A10,30,350,10500\n",
    "2023-02-20,Accessories,USB-C Charging Cable,50,15,750\n",
    "2023-03-15,Smartphone,X-Phone 12,25,750,18750\n",
    "2023-03-22,Laptop,ProBook 15,15,1200,18000\n",
    "2023-04-18,Tablet,Tab A10,20,350,7000\n",
    "2023-04-25,Accessories,USB-C Charging Cable,60,15,900\n",
    "2023-05-06,Smartphone,Y-Phone 11,30,700,21000\n",
    "2023-05-16,Laptop,Gamer Ultra,5,2500,12500\n",
    "2023-06-03,Tablet,Tab A10,25,350,8750\n",
    "2023-06-18,Accessories,Wireless Mouse,40,25,1000\n",
    "\"\"\")\n",
    "\n",
    "# Load the dataset into a DataFrame\n",
    "\n",
    "sales_data = pd.read_csv(data, parse_dates=['Date'])\n",
    "\n",
    "# Display the DataFrame\n",
    "\n",
    "print(sales_data)"
   ]
  },
  {
   "cell_type": "markdown",
   "id": "ae58b5b3-424d-4fb0-bede-3f1659d9fa07",
   "metadata": {},
   "source": [
    "Monthly Sales Analysis: Calculate the total sales amount for each month. Identify which month had the highest sales and which had the lowest. What might be the reasons for this variation?"
   ]
  },
  {
   "cell_type": "code",
   "execution_count": 2,
   "id": "4b260ac9-05e3-420c-b4e3-ab8bb436bb84",
   "metadata": {},
   "outputs": [
    {
     "name": "stdout",
     "output_type": "stream",
     "text": [
      "<class 'pandas.core.frame.DataFrame'>\n",
      "RangeIndex: 12 entries, 0 to 11\n",
      "Data columns (total 6 columns):\n",
      " #   Column       Non-Null Count  Dtype         \n",
      "---  ------       --------------  -----         \n",
      " 0   Date         12 non-null     datetime64[ns]\n",
      " 1   Category     12 non-null     object        \n",
      " 2   Product      12 non-null     object        \n",
      " 3   Units Sold   12 non-null     int64         \n",
      " 4   Unit Price   12 non-null     int64         \n",
      " 5   Total Sales  12 non-null     int64         \n",
      "dtypes: datetime64[ns](1), int64(3), object(2)\n",
      "memory usage: 708.0+ bytes\n"
     ]
    }
   ],
   "source": [
    "sales_data.info()"
   ]
  },
  {
   "cell_type": "code",
   "execution_count": 14,
   "id": "899c3f59-e282-41cf-b316-9612db1c62e4",
   "metadata": {},
   "outputs": [
    {
     "data": {
      "text/html": [
       "<div>\n",
       "<style scoped>\n",
       "    .dataframe tbody tr th:only-of-type {\n",
       "        vertical-align: middle;\n",
       "    }\n",
       "\n",
       "    .dataframe tbody tr th {\n",
       "        vertical-align: top;\n",
       "    }\n",
       "\n",
       "    .dataframe thead th {\n",
       "        text-align: right;\n",
       "    }\n",
       "</style>\n",
       "<table border=\"1\" class=\"dataframe\">\n",
       "  <thead>\n",
       "    <tr style=\"text-align: right;\">\n",
       "      <th></th>\n",
       "      <th></th>\n",
       "      <th>sum</th>\n",
       "    </tr>\n",
       "    <tr>\n",
       "      <th>Year</th>\n",
       "      <th>Month</th>\n",
       "      <th></th>\n",
       "    </tr>\n",
       "  </thead>\n",
       "  <tbody>\n",
       "    <tr>\n",
       "      <th rowspan=\"6\" valign=\"top\">2023</th>\n",
       "      <th>1</th>\n",
       "      <td>27000</td>\n",
       "    </tr>\n",
       "    <tr>\n",
       "      <th>2</th>\n",
       "      <td>11250</td>\n",
       "    </tr>\n",
       "    <tr>\n",
       "      <th>3</th>\n",
       "      <td>36750</td>\n",
       "    </tr>\n",
       "    <tr>\n",
       "      <th>4</th>\n",
       "      <td>7900</td>\n",
       "    </tr>\n",
       "    <tr>\n",
       "      <th>5</th>\n",
       "      <td>33500</td>\n",
       "    </tr>\n",
       "    <tr>\n",
       "      <th>6</th>\n",
       "      <td>9750</td>\n",
       "    </tr>\n",
       "  </tbody>\n",
       "</table>\n",
       "</div>"
      ],
      "text/plain": [
       "              sum\n",
       "Year Month       \n",
       "2023 1      27000\n",
       "     2      11250\n",
       "     3      36750\n",
       "     4       7900\n",
       "     5      33500\n",
       "     6       9750"
      ]
     },
     "execution_count": 14,
     "metadata": {},
     "output_type": "execute_result"
    }
   ],
   "source": [
    "df_grouped = sales_data.groupby([sales_data['Date'].dt.year.rename('Year'), sales_data['Date'].dt.month.rename('Month')])['Total Sales'].agg({'sum'})\n",
    "df_grouped"
   ]
  },
  {
   "cell_type": "code",
   "execution_count": 19,
   "id": "b86a611c-0dd4-41ea-a04f-8c8d3661468e",
   "metadata": {},
   "outputs": [
    {
     "data": {
      "text/html": [
       "<div>\n",
       "<style scoped>\n",
       "    .dataframe tbody tr th:only-of-type {\n",
       "        vertical-align: middle;\n",
       "    }\n",
       "\n",
       "    .dataframe tbody tr th {\n",
       "        vertical-align: top;\n",
       "    }\n",
       "\n",
       "    .dataframe thead th {\n",
       "        text-align: right;\n",
       "    }\n",
       "</style>\n",
       "<table border=\"1\" class=\"dataframe\">\n",
       "  <thead>\n",
       "    <tr style=\"text-align: right;\">\n",
       "      <th></th>\n",
       "      <th></th>\n",
       "      <th>sum</th>\n",
       "    </tr>\n",
       "    <tr>\n",
       "      <th>Year</th>\n",
       "      <th>Month</th>\n",
       "      <th></th>\n",
       "    </tr>\n",
       "  </thead>\n",
       "  <tbody>\n",
       "    <tr>\n",
       "      <th>2023</th>\n",
       "      <th>3</th>\n",
       "      <td>36750</td>\n",
       "    </tr>\n",
       "  </tbody>\n",
       "</table>\n",
       "</div>"
      ],
      "text/plain": [
       "              sum\n",
       "Year Month       \n",
       "2023 3      36750"
      ]
     },
     "execution_count": 19,
     "metadata": {},
     "output_type": "execute_result"
    }
   ],
   "source": [
    "max_sales = df_grouped[df_grouped['sum'] == df_grouped['sum'].max()] \n",
    "max_sales"
   ]
  },
  {
   "cell_type": "code",
   "execution_count": 20,
   "id": "e327f749-ed3c-418e-9def-ba23356acc5d",
   "metadata": {},
   "outputs": [
    {
     "data": {
      "text/html": [
       "<div>\n",
       "<style scoped>\n",
       "    .dataframe tbody tr th:only-of-type {\n",
       "        vertical-align: middle;\n",
       "    }\n",
       "\n",
       "    .dataframe tbody tr th {\n",
       "        vertical-align: top;\n",
       "    }\n",
       "\n",
       "    .dataframe thead th {\n",
       "        text-align: right;\n",
       "    }\n",
       "</style>\n",
       "<table border=\"1\" class=\"dataframe\">\n",
       "  <thead>\n",
       "    <tr style=\"text-align: right;\">\n",
       "      <th></th>\n",
       "      <th></th>\n",
       "      <th>sum</th>\n",
       "    </tr>\n",
       "    <tr>\n",
       "      <th>Year</th>\n",
       "      <th>Month</th>\n",
       "      <th></th>\n",
       "    </tr>\n",
       "  </thead>\n",
       "  <tbody>\n",
       "    <tr>\n",
       "      <th>2023</th>\n",
       "      <th>4</th>\n",
       "      <td>7900</td>\n",
       "    </tr>\n",
       "  </tbody>\n",
       "</table>\n",
       "</div>"
      ],
      "text/plain": [
       "             sum\n",
       "Year Month      \n",
       "2023 4      7900"
      ]
     },
     "execution_count": 20,
     "metadata": {},
     "output_type": "execute_result"
    }
   ],
   "source": [
    "min_sales = df_grouped[df_grouped['sum'] == df_grouped['sum'].min()] \n",
    "min_sales"
   ]
  },
  {
   "cell_type": "code",
   "execution_count": null,
   "id": "3d99eca4-758e-4ace-9680-2777bdc79a60",
   "metadata": {},
   "outputs": [],
   "source": []
  }
 ],
 "metadata": {
  "kernelspec": {
   "display_name": "Python 3 (ipykernel)",
   "language": "python",
   "name": "python3"
  },
  "language_info": {
   "codemirror_mode": {
    "name": "ipython",
    "version": 3
   },
   "file_extension": ".py",
   "mimetype": "text/x-python",
   "name": "python",
   "nbconvert_exporter": "python",
   "pygments_lexer": "ipython3",
   "version": "3.11.7"
  }
 },
 "nbformat": 4,
 "nbformat_minor": 5
}
